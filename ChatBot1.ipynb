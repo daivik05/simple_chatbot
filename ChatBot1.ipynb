{
  "nbformat": 4,
  "nbformat_minor": 0,
  "metadata": {
    "colab": {
      "provenance": [],
      "authorship_tag": "ABX9TyOXrwIVkldc4E4sAPksZaiE",
      "include_colab_link": true
    },
    "kernelspec": {
      "name": "python3",
      "display_name": "Python 3"
    },
    "language_info": {
      "name": "python"
    }
  },
  "cells": [
    {
      "cell_type": "markdown",
      "metadata": {
        "id": "view-in-github",
        "colab_type": "text"
      },
      "source": [
        "<a href=\"https://colab.research.google.com/github/daivik05/simple_chatbot/blob/main/ChatBot1.ipynb\" target=\"_parent\"><img src=\"https://colab.research.google.com/assets/colab-badge.svg\" alt=\"Open In Colab\"/></a>"
      ]
    },
    {
      "cell_type": "code",
      "source": [
        "from nltk.chat.util import Chat, reflections\n"
      ],
      "metadata": {
        "id": "4QSUfvF3YgIP"
      },
      "execution_count": 2,
      "outputs": []
    },
    {
      "cell_type": "code",
      "source": [
        "pairs= [\n",
        "    ['my name is (.*)',['hi %1']],['(hi|hello|hey|hola|namaste|yo|wassup)',['hey there','hi there','heyyy','Yoooo wassup']],\n",
        "    ['(bye|goodbye|see you later|cya)', ['Goodbye!', 'Farewell!', 'Take care!']],\n",
        "    ['can you help me with (.*)', ['Of course! What do you need help with?']],\n",
        "    ['what\\'s the weather like today', ['I\\'m not equipped to check the weather, but you can use a weather app for that!']],\n",
        "    ['(thank you|thanks)', ['You\\'re welcome!', 'Glad I could help!', 'No problem!']],    ['how are you', ['I\\'m doing well, thank you for asking!', 'I\\'m just a chatbot, so I don\\'t have feelings, but I\\'m here to assist you!']],\n",
        "    ['(.*) in (.*) is fun ',['%1 in %2 is indeed fun']],['what are your hobbies', ['As a chatbot, I don\\'t have hobbies, but I enjoy helping people!', 'I\\'m programmed to assist you, so I\\'m always ready to chat!']],\n",
        "    ['do you have any pets', ['I don\\'t have any pets, but I\\'m here to chat with you!', 'Pets are great companions, but unfortunately, I\\'m just a chatbot!']],\n",
        "    ['have you seen any good movies lately', ['As a chatbot, I don\\'t watch movies, but I can recommend some based on your preferences!', 'I don\\'t watch movies, but I can tell you about popular ones!']],\n",
        "    ['do you like to read', ['I don\\'t read books, but I can help you find interesting articles and information online!', 'Reading is a great way to gain knowledge, and I can assist you with that!']],\n",
        "    ['what\\'s your favorite food', ['As a chatbot, I don\\'t eat, but I can suggest some delicious recipes!', 'I don\\'t have taste buds, but I can provide information about various cuisines!']],\n",
        "    ['do you drink coffee or tea', ['I don\\'t consume beverages, but I can help you find the best coffee shops or tea houses in your area!', 'Coffee and tea are popular choices, but I don\\'t have any preferences!']],\n",
        "    ['what\\'s the latest tech news', ['I\\'m always up to date with the latest technology news! Would you like me to share some?', 'There\\'s always something new happening in the world of technology!']],\n",
        "    ['have you traveled anywhere interesting', ['As a chatbot, I don\\'t travel, but I can provide travel tips and recommendations!', 'I haven\\'t traveled, but I can help you plan your next adventure!']],\n",
        "    ['where would you like to go on vacation', ['I don\\'t have preferences for vacation destinations, but I can help you find the perfect getaway spot!', 'There are so many beautiful places to explore around the world!']],\n",
        "    ['tell me a joke', ['Why was the math book sad? Because it had too many problems!', 'What do you get when you cross a snowman and a vampire? Frostbite!']],\n",
        "    ['howdy', ['Howdy! How can I assist you today?', 'Howdy partner! What can I help you with?']],\n",
        "    ['good morning', ['Good morning! Ready to tackle the day?', 'Good morning! What\\'s on your agenda for today?']],\n",
        "    ['good evening', ['Good evening! How was your day?', 'Good evening! Ready to unwind and relax?']],\n",
        "    ['I\\'m feeling sad', ['I\\'m here for you. Would you like to talk about what\\'s bothering you?', 'I\\'m sorry to hear that. Is there anything I can do to help you feel better?']],\n",
        "    ['I\\'m stressed out', ['Take a deep breath and try to relax. Remember, I\\'m here to support you!', 'It\\'s okay to feel stressed sometimes. Let\\'s find ways to manage it together.']],\n",
        "    ['(.*)created (.*) ?|(.*) made (.*) ?',['My creator is Lord Daivik']],['(.*) is your name?|(.*) is ur name?|(.*) ur name?',['My name is A.S.T.R.O']],\n",
        "    ['(.*)help(.*)',['I can help you']]\n",
        "]"
      ],
      "metadata": {
        "id": "KNY6fnIxYwBC"
      },
      "execution_count": 22,
      "outputs": []
    },
    {
      "cell_type": "code",
      "source": [
        "chat = Chat(pairs,reflections)\n",
        "chat.converse()"
      ],
      "metadata": {
        "colab": {
          "base_uri": "https://localhost:8080/"
        },
        "id": "Ke6sXDvOZCGo",
        "outputId": "0f5eb8c8-72c2-43c9-9b90-ab7edc25f616"
      },
      "execution_count": 27,
      "outputs": [
        {
          "output_type": "stream",
          "name": "stdout",
          "text": [
            ">hi\n",
            "hi there\n",
            ">what is ur name?\n",
            "My name is A.S.T.R.O\n",
            ">bye\n",
            "Take care!\n",
            ">quit\n",
            "None\n"
          ]
        }
      ]
    }
  ]
}